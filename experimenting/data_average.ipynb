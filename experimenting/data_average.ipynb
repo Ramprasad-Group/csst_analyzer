{
 "cells": [
  {
   "cell_type": "code",
   "execution_count": 1,
   "id": "deb4adf0-b90f-460e-afbe-4cf355df2fa4",
   "metadata": {},
   "outputs": [],
   "source": [
    "from pathlib import Path\n",
    "\n",
    "import matplotlib.pyplot as plt\n",
    "import numpy as np\n",
    "\n",
    "from csst.csst_analyzer import CSSTA"
   ]
  },
  {
   "cell_type": "code",
   "execution_count": 2,
   "id": "ca0a1238-3a7f-4d37-80ff-bcb66801fde6",
   "metadata": {},
   "outputs": [],
   "source": [
    "path = Path('..') / 'data' / 'data1.csv'"
   ]
  },
  {
   "cell_type": "code",
   "execution_count": null,
   "id": "cf5ddc82-c72e-468f-8241-2d34759f872b",
   "metadata": {},
   "outputs": [],
   "source": []
  }
 ],
 "metadata": {
  "kernelspec": {
   "display_name": "Python 3 (ipykernel)",
   "language": "python",
   "name": "python3"
  },
  "language_info": {
   "codemirror_mode": {
    "name": "ipython",
    "version": 3
   },
   "file_extension": ".py",
   "mimetype": "text/x-python",
   "name": "python",
   "nbconvert_exporter": "python",
   "pygments_lexer": "ipython3",
   "version": "3.9.13"
  }
 },
 "nbformat": 4,
 "nbformat_minor": 5
}
