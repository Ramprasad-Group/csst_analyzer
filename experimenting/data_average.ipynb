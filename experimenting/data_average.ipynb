{
 "cells": [
  {
   "cell_type": "code",
   "execution_count": 1,
   "id": "deb4adf0-b90f-460e-afbe-4cf355df2fa4",
   "metadata": {},
   "outputs": [],
   "source": [
    "from pathlib import Path\n",
    "\n",
    "import matplotlib.pyplot as plt\n",
    "import numpy as np\n",
    "\n",
    "from csst.csst_analyzer import CSSTA"
   ]
  },
  {
   "cell_type": "code",
   "execution_count": 2,
   "id": "ca0a1238-3a7f-4d37-80ff-bcb66801fde6",
   "metadata": {},
   "outputs": [],
   "source": [
    "path = Path('..') / 'data' / 'MA-PP-TOL-5-15-30-50 mg.csv'"
   ]
  },
  {
   "cell_type": "code",
   "execution_count": 3,
   "id": "cf5ddc82-c72e-468f-8241-2d34759f872b",
   "metadata": {},
   "outputs": [],
   "source": [
    "data = CSSTA(path)"
   ]
  },
  {
   "cell_type": "code",
   "execution_count": 4,
   "id": "887c5d93-9248-4246-8ed8-abea89b66fd8",
   "metadata": {},
   "outputs": [
    {
     "name": "stdout",
     "output_type": "stream",
     "text": [
      "([61.16770538243626, 58.05229142185664], [26.040226628895184, 24.065217391304348], [12.388101983002834, 11.079905992949472], [5.329178470254957, 4.947121034077556], ['4796 => 6561', '21706 => 23408'])\n"
     ]
    }
   ],
   "source": [
    "temp_actual = data.df.iloc[:,3].to_list()\n",
    "temp_setpoint = data.df.iloc[:,2].to_list()\n",
    "trans_r1 = data.df['Reactor1 Transmission [%]'].to_list()\n",
    "trans_r2 = data.df['Reactor2 Transmission [%]'].to_list()\n",
    "trans_r3 = data.df['Reactor3 Transmission [%]'].to_list()\n",
    "trans_r4 = data.df['Reactor4 Transmission [%]'].to_list()\n",
    "\n",
    "# Defining the average on the plateau time \n",
    "#target_columns = df.iloc[:,[4,5,6,7]]\n",
    "\n",
    "def average_desired_temp (temp):\n",
    "    avg_r1 = []\n",
    "    avg_r2 = []\n",
    "    avg_r3 = []\n",
    "    avg_r4 = []\n",
    "\n",
    "    sum_r1 = 0\n",
    "    sum_r2 = 0\n",
    "    sum_r3 = 0\n",
    "    sum_r4 = 0\n",
    "    \n",
    "    start_index = []\n",
    "    end_index = []\n",
    "    \n",
    "    counter = 0\n",
    "    wearein = False\n",
    "    \n",
    "    for i in range(data.df.shape[0]):\n",
    "        if temp_actual[i] == temp:\n",
    "            if wearein == False:\n",
    "                start_index.append(i)\n",
    "                wearein = True\n",
    "                \n",
    "            sum_r1 = sum_r1 + trans_r1[i] \n",
    "            sum_r2 = sum_r2 + trans_r2[i] \n",
    "            sum_r3 = sum_r3 + trans_r3[i] \n",
    "            sum_r4 = sum_r4 + trans_r4[i] \n",
    "            counter = counter + 1\n",
    "        else:\n",
    "            if(wearein == True):\n",
    "                end_index.append(i)\n",
    "                wearein = False\n",
    "                \n",
    "                avg_r1.append(sum_r1 / counter)\n",
    "                sum_r1 = 0\n",
    "                \n",
    "                avg_r2.append(sum_r2 / counter)\n",
    "                sum_r2 = 0\n",
    "                \n",
    "                avg_r3.append(sum_r3 / counter)\n",
    "                sum_r3 = 0\n",
    "                \n",
    "                avg_r4.append(sum_r4 / counter)\n",
    "                sum_r4 = 0\n",
    "                \n",
    "                counter = 0\n",
    "                       \n",
    "        \n",
    "    index = []\n",
    "    for i in range (len(start_index)):\n",
    "        index.append(str(start_index[i]) + \" => \" + str(end_index[i]))\n",
    "   \n",
    "    return avg_r1, avg_r2, avg_r3, avg_r4, index\n",
    "\n",
    "print(average_desired_temp(60))        "
   ]
  },
  {
   "cell_type": "code",
   "execution_count": 5,
   "id": "b6942858-71b5-4993-bfde-344dcede03c7",
   "metadata": {},
   "outputs": [
    {
     "data": {
      "text/plain": [
       "{'Reactor1': '5 mg/ml PP in TOL',\n",
       " 'Reactor2': '15 mg/ml PP in TOL',\n",
       " 'Reactor3': '30 mg/ml PP in TOL',\n",
       " 'Reactor4': '50 mg/ml PP in TOL'}"
      ]
     },
     "execution_count": 5,
     "metadata": {},
     "output_type": "execute_result"
    }
   ],
   "source": [
    "data.samples"
   ]
  }
 ],
 "metadata": {
  "kernelspec": {
   "display_name": "Python 3 (ipykernel)",
   "language": "python",
   "name": "python3"
  },
  "language_info": {
   "codemirror_mode": {
    "name": "ipython",
    "version": 3
   },
   "file_extension": ".py",
   "mimetype": "text/x-python",
   "name": "python",
   "nbconvert_exporter": "python",
   "pygments_lexer": "ipython3",
   "version": "3.9.13"
  }
 },
 "nbformat": 4,
 "nbformat_minor": 5
}
