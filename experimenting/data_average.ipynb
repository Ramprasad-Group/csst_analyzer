{
 "cells": [
  {
   "cell_type": "code",
   "execution_count": 5,
   "id": "deb4adf0-b90f-460e-afbe-4cf355df2fa4",
   "metadata": {},
   "outputs": [],
   "source": [
    "from pathlib import Path\n",
    "\n",
    "import matplotlib.pyplot as plt\n",
    "import numpy as np\n",
    "\n",
    "from csst.csst_analyzer import CSSTA"
   ]
  },
  {
   "cell_type": "code",
   "execution_count": 6,
   "id": "ca0a1238-3a7f-4d37-80ff-bcb66801fde6",
   "metadata": {},
   "outputs": [],
   "source": [
    "path = Path('..') / 'data' / 'MA-PP-TOL-5-15-30-50 mg.csv'"
   ]
  },
  {
   "cell_type": "code",
   "execution_count": 7,
   "id": "cf5ddc82-c72e-468f-8241-2d34759f872b",
   "metadata": {},
   "outputs": [],
   "source": [
    "data = CSSTA(path)"
   ]
  },
  {
   "cell_type": "code",
   "execution_count": 8,
   "id": "887c5d93-9248-4246-8ed8-abea89b66fd8",
   "metadata": {},
   "outputs": [
    {
     "ename": "NameError",
     "evalue": "name 'temp_actual' is not defined",
     "output_type": "error",
     "traceback": [
      "\u001b[0;31m---------------------------------------------------------------------------\u001b[0m",
      "\u001b[0;31mNameError\u001b[0m                                 Traceback (most recent call last)",
      "Cell \u001b[0;32mIn [8], line 58\u001b[0m\n\u001b[1;32m     54\u001b[0m         index\u001b[38;5;241m.\u001b[39mappend(\u001b[38;5;28mstr\u001b[39m(start_index[i]) \u001b[38;5;241m+\u001b[39m \u001b[38;5;124m\"\u001b[39m\u001b[38;5;124m => \u001b[39m\u001b[38;5;124m\"\u001b[39m \u001b[38;5;241m+\u001b[39m \u001b[38;5;28mstr\u001b[39m(end_index[i]))\n\u001b[1;32m     56\u001b[0m     \u001b[38;5;28;01mreturn\u001b[39;00m avg_r1, avg_r2, avg_r3, avg_r4, index\n\u001b[0;32m---> 58\u001b[0m \u001b[38;5;28mprint\u001b[39m(\u001b[43maverage_desired_temp\u001b[49m\u001b[43m(\u001b[49m\u001b[38;5;241;43m60\u001b[39;49m\u001b[43m)\u001b[49m)\n",
      "Cell \u001b[0;32mIn [8], line 22\u001b[0m, in \u001b[0;36maverage_desired_temp\u001b[0;34m(temp)\u001b[0m\n\u001b[1;32m     19\u001b[0m wearein \u001b[38;5;241m=\u001b[39m \u001b[38;5;28;01mFalse\u001b[39;00m\n\u001b[1;32m     21\u001b[0m \u001b[38;5;28;01mfor\u001b[39;00m i \u001b[38;5;129;01min\u001b[39;00m \u001b[38;5;28mrange\u001b[39m(data\u001b[38;5;241m.\u001b[39mdf\u001b[38;5;241m.\u001b[39mshape[\u001b[38;5;241m0\u001b[39m]):\n\u001b[0;32m---> 22\u001b[0m     \u001b[38;5;28;01mif\u001b[39;00m \u001b[43mtemp_actual\u001b[49m[i] \u001b[38;5;241m==\u001b[39m temp:\n\u001b[1;32m     23\u001b[0m         \u001b[38;5;28;01mif\u001b[39;00m wearein \u001b[38;5;241m==\u001b[39m \u001b[38;5;28;01mFalse\u001b[39;00m:\n\u001b[1;32m     24\u001b[0m             start_index\u001b[38;5;241m.\u001b[39mappend(i)\n",
      "\u001b[0;31mNameError\u001b[0m: name 'temp_actual' is not defined"
     ]
    }
   ],
   "source": [
    "# Defining the average on the plateau time \n",
    "#target_columns = df.iloc[:,[4,5,6,7]]\n",
    "\n",
    "def average_desired_temp (temp):\n",
    "    avg_r1 = []\n",
    "    avg_r2 = []\n",
    "    avg_r3 = []\n",
    "    avg_r4 = []\n",
    "\n",
    "    sum_r1 = 0\n",
    "    sum_r2 = 0\n",
    "    sum_r3 = 0\n",
    "    sum_r4 = 0\n",
    "    \n",
    "    start_index = []\n",
    "    end_index = []\n",
    "    \n",
    "    counter = 0\n",
    "    wearein = False\n",
    "    \n",
    "    for i in range(data.df.shape[0]):\n",
    "        if temp_actual[i] == temp:\n",
    "            if wearein == False:\n",
    "                start_index.append(i)\n",
    "                wearein = True\n",
    "                \n",
    "            sum_r1 = sum_r1 + trans_r1[i] \n",
    "            sum_r2 = sum_r2 + trans_r2[i] \n",
    "            sum_r3 = sum_r3 + trans_r3[i] \n",
    "            sum_r4 = sum_r4 + trans_r4[i] \n",
    "            counter = counter + 1\n",
    "        else:\n",
    "            if(wearein == True):\n",
    "                end_index.append(i)\n",
    "                wearein = False\n",
    "                \n",
    "                avg_r1.append(sum_r1 / counter)\n",
    "                sum_r1 = 0\n",
    "                \n",
    "                avg_r2.append(sum_r2 / counter)\n",
    "                sum_r2 = 0\n",
    "                \n",
    "                avg_r3.append(sum_r3 / counter)\n",
    "                sum_r3 = 0\n",
    "                \n",
    "                avg_r4.append(sum_r4 / counter)\n",
    "                sum_r4 = 0\n",
    "                \n",
    "                counter = 0\n",
    "                       \n",
    "        \n",
    "    index = []\n",
    "    for i in range (len(start_index)):\n",
    "        index.append(str(start_index[i]) + \" => \" + str(end_index[i]))\n",
    "   \n",
    "    return avg_r1, avg_r2, avg_r3, avg_r4, index\n",
    "\n",
    "print(average_desired_temp(60))        "
   ]
  },
  {
   "cell_type": "code",
   "execution_count": null,
   "id": "ffa99632-683c-40f0-95b2-712715da7b56",
   "metadata": {},
   "outputs": [],
   "source": []
  },
  {
   "cell_type": "code",
   "execution_count": null,
   "id": "fcb4629f-52e9-4e13-8a5f-ab36c9f726e3",
   "metadata": {},
   "outputs": [],
   "source": []
  }
 ],
 "metadata": {
  "kernelspec": {
   "display_name": "Python 3 (ipykernel)",
   "language": "python",
   "name": "python3"
  },
  "language_info": {
   "codemirror_mode": {
    "name": "ipython",
    "version": 3
   },
   "file_extension": ".py",
   "mimetype": "text/x-python",
   "name": "python",
   "nbconvert_exporter": "python",
   "pygments_lexer": "ipython3",
   "version": "3.8.12"
  }
 },
 "nbformat": 4,
 "nbformat_minor": 5
}
